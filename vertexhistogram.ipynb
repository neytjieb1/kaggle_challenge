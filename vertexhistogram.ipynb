{
 "cells": [
  {
   "cell_type": "code",
   "execution_count": 2,
   "metadata": {},
   "outputs": [],
   "source": [
    "import pickle as pkl\n",
    "import pandas as pd\n",
    "import networkx as nx\n",
    "import numpy as np\n",
    "from tqdm import tqdm\n",
    "from itertools import chain\n",
    "\n",
    "with open('Data/training_data.pkl', 'rb') as file:\n",
    "    train_graphs = pkl.load(file)"
   ]
  },
  {
   "cell_type": "code",
   "execution_count": 3,
   "metadata": {},
   "outputs": [
    {
     "name": "stderr",
     "output_type": "stream",
     "text": [
      "100%|██████████| 6000/6000 [00:01<00:00, 3930.34it/s]\n"
     ]
    }
   ],
   "source": [
    "#Alphabet instances for each graph over all hops\n",
    "#List of N empty lists\n",
    "def vertexHistogram(graphList):\n",
    "    N = len(graphList)\n",
    "    vertexlabs = np.zeros((N, 50+4))\n",
    "    # edgelabs = np.zeros((N, 4))\n",
    "    for i in tqdm(range(N)):\n",
    "        va = nx.get_node_attributes(graphList[i], 'labels').values()\n",
    "        va = list(chain.from_iterable(va))\n",
    "        vb = np.c_[np.unique(va, return_counts=1)]\n",
    "        vertexlabs[i, vb[:,0]] = vb[:,1]\n",
    "        ea = nx.get_edge_attributes(graphList[i], 'labels').values()\n",
    "        ea = list(chain.from_iterable(ea))\n",
    "        eb = np.c_[np.unique(ea, return_counts=1)]\n",
    "        if len(eb!=0): #completely disconnected graph\n",
    "            vertexlabs[i,  50+eb[:,0]] = eb[:, 1]\n",
    "\n",
    "    L = pd.DataFrame(vertexlabs, columns=[f'v{i}' for i in range(50)]+[f'e{i}' for i in range(4)])\n",
    "    # print(L.head())\n",
    "    return L#.dot(L.T)\n",
    "\n",
    "VHKernel = vertexHistogram(train_graphs)\n",
    "# np.savetxt('VHKernel.txt', VHKernel)"
   ]
  },
  {
   "attachments": {},
   "cell_type": "markdown",
   "metadata": {},
   "source": [
    "Fit"
   ]
  },
  {
   "cell_type": "code",
   "execution_count": 4,
   "metadata": {},
   "outputs": [
    {
     "data": {
      "text/plain": [
       "(6000, 54)"
      ]
     },
     "execution_count": 4,
     "metadata": {},
     "output_type": "execute_result"
    }
   ],
   "source": [
    "VHKernel.shape"
   ]
  },
  {
   "cell_type": "code",
   "execution_count": 5,
   "metadata": {},
   "outputs": [],
   "source": [
    "with open('Data/training_labels.pkl', 'rb') as file:\n",
    "    labels = pkl.load(file)\n",
    "VHData = VHKernel#np.loadtxt('VHKernel.txt')"
   ]
  },
  {
   "cell_type": "code",
   "execution_count": 7,
   "metadata": {},
   "outputs": [
    {
     "data": {
      "text/plain": [
       "(4200, 54)"
      ]
     },
     "execution_count": 7,
     "metadata": {},
     "output_type": "execute_result"
    }
   ],
   "source": [
    "from sklearn.model_selection import train_test_split\n",
    "X_train, X_validate, y_train, y_validate = train_test_split(VHData, labels, test_size=0.3, random_state=1)\n",
    "X_train.shape"
   ]
  },
  {
   "cell_type": "code",
   "execution_count": null,
   "metadata": {},
   "outputs": [],
   "source": []
  },
  {
   "cell_type": "code",
   "execution_count": 10,
   "metadata": {},
   "outputs": [],
   "source": [
    "from sklearn import metrics\n",
    "from sklearn.svm import SVC\n",
    "rbf = SVC(gamma=2, C=1, probability=True, verbose=1)\n",
    "rbf.fit(X_train, y_train)"
   ]
  },
  {
   "cell_type": "code",
   "execution_count": 27,
   "metadata": {},
   "outputs": [
    {
     "name": "stdout",
     "output_type": "stream",
     "text": [
      "AUC: 0.6201100244498777\n"
     ]
    }
   ],
   "source": [
    "pred = rbf.predict(X_validate)\n",
    "fpr, tpr, thresholds = metrics.roc_curve(y_validate, pred, pos_label=1)\n",
    "print(f'AUC: {metrics.auc(fpr, tpr)}')\n",
    "\n",
    "# from sklearn.metrics import confusion_matrix\n",
    "# pd.DataFrame(confusion_matrix(y_validate, pred))\n"
   ]
  }
 ],
 "metadata": {
  "kernelspec": {
   "display_name": "base",
   "language": "python",
   "name": "python3"
  },
  "language_info": {
   "codemirror_mode": {
    "name": "ipython",
    "version": 3
   },
   "file_extension": ".py",
   "mimetype": "text/x-python",
   "name": "python",
   "nbconvert_exporter": "python",
   "pygments_lexer": "ipython3",
   "version": "3.9.13"
  },
  "orig_nbformat": 4
 },
 "nbformat": 4,
 "nbformat_minor": 2
}
