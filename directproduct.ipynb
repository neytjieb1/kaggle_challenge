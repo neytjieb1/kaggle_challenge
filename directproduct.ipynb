{
 "cells": [
  {
   "attachments": {},
   "cell_type": "markdown",
   "metadata": {},
   "source": [
    "#### Libraries"
   ]
  },
  {
   "cell_type": "code",
   "execution_count": 6,
   "metadata": {},
   "outputs": [],
   "source": [
    "import pickle as pkl\n",
    "import networkx as nx\n",
    "import numpy as np\n",
    "from tqdm import tqdm\n",
    "import warnings\n",
    "warnings.simplefilter(action='ignore', category=FutureWarning)\n",
    "\n",
    "with open(\"training_data.pkl\", 'rb') as file:\n",
    "    train_graphs = pkl.load(file)\n"
   ]
  },
  {
   "attachments": {},
   "cell_type": "markdown",
   "metadata": {},
   "source": [
    "#### Direct Product Kernel"
   ]
  },
  {
   "cell_type": "code",
   "execution_count": 113,
   "metadata": {},
   "outputs": [],
   "source": [
    "import scipy.sparse as ss\n",
    "def DPKernel(adjacencymatrix):\n",
    "    rho = ss.linalg.norm(adjacencymatrix)\n",
    "    infsum = ss.linalg.inv( ss.eye(adjacencymatrix.shape[0], format='csc') - rho*adjacencymatrix )\n",
    "    k = np.sum(np.abs(infsum))\n",
    "    return k"
   ]
  },
  {
   "attachments": {},
   "cell_type": "markdown",
   "metadata": {},
   "source": [
    "Calculate DP Kernel"
   ]
  },
  {
   "cell_type": "code",
   "execution_count": null,
   "metadata": {},
   "outputs": [],
   "source": [
    "N = len(train_graphs)\n",
    "K = np.zeros((N,N))\n",
    "for i in tqdm(range(N)):\n",
    "    G1 = train_graphs[i]\n",
    "    for j in range(i+1): #K will be symmetric, so only calculate upper and then change\n",
    "        G2 = train_graphs[j]        \n",
    "        Gx = nx.tensor_product(G1, G2)\n",
    "        Ax = nx.adjacency_matrix(Gx)\n",
    "        K[i,j] = DPKernel(Ax)\n",
    "\n",
    "\n",
    "K = K + K.T - np.diag(np.diag(K)) #extract diagonal and then make into diagonal matrix"
   ]
  },
  {
   "attachments": {},
   "cell_type": "markdown",
   "metadata": {},
   "source": [
    "Save data"
   ]
  },
  {
   "cell_type": "code",
   "execution_count": 118,
   "metadata": {},
   "outputs": [],
   "source": [
    "np.savetxt('DPKernel.txt', K)"
   ]
  },
  {
   "attachments": {},
   "cell_type": "markdown",
   "metadata": {},
   "source": [
    "### Scraps\n"
   ]
  },
  {
   "cell_type": "code",
   "execution_count": 91,
   "metadata": {},
   "outputs": [
    {
     "data": {
      "text/plain": [
       "428.68649496070907"
      ]
     },
     "execution_count": 91,
     "metadata": {},
     "output_type": "execute_result"
    }
   ],
   "source": [
    "Gx = nx.tensor_product(train_graphs[1], train_graphs[2])\n",
    "#Adjacency\n",
    "Ax = nx.adjacency_matrix(Gx)  # ss.csr_matrix.toarray(nx.adjacency_matrix(G))\n",
    "DPKernel(Ax)"
   ]
  },
  {
   "cell_type": "code",
   "execution_count": null,
   "metadata": {},
   "outputs": [],
   "source": [
    "from lib import draw\n",
    "import matplotlib.pyplot as plt\n",
    "G0 = train_graphs[0].subgraph([4, 1, 7, 0, 15, 8])\n",
    "G1 = train_graphs[1].subgraph( [0, 1, 2, 3, 5, 6, 7, 8, 10, 11])\n",
    "plt.figure(figsize=(12, 8))\n",
    "plt.subplot(1,2,1)\n",
    "draw(G0)\n",
    "plt.subplot(1,2,2)\n",
    "draw(G1)\n"
   ]
  },
  {
   "cell_type": "code",
   "execution_count": null,
   "metadata": {},
   "outputs": [],
   "source": [
    "Gx = nx.tensor_product(G0, G1)\n",
    "pos = nx.spring_layout(Gx, seed=1, k=0.3)\n",
    "nx.draw(Gx, pos)\n",
    "node_labels = nx.get_node_attributes(Gx, \"labels\")\n",
    "nx.draw_networkx_labels(Gx, pos, node_labels, font_size=8);\n",
    "# edge_labels = nx.get_edge_attributes(P, \"labels\")\n",
    "# nx.draw_networkx_labels(P, pos, edge_labels, font_size=8);"
   ]
  },
  {
   "cell_type": "code",
   "execution_count": null,
   "metadata": {},
   "outputs": [],
   "source": [
    "# plt.subplot(1,1,1)\n",
    "# draw(P)\n",
    "Gx.nodes()"
   ]
  }
 ],
 "metadata": {
  "kernelspec": {
   "display_name": "research",
   "language": "python",
   "name": "python3"
  },
  "language_info": {
   "codemirror_mode": {
    "name": "ipython",
    "version": 3
   },
   "file_extension": ".py",
   "mimetype": "text/x-python",
   "name": "python",
   "nbconvert_exporter": "python",
   "pygments_lexer": "ipython3",
   "version": "3.9.13"
  },
  "orig_nbformat": 4
 },
 "nbformat": 4,
 "nbformat_minor": 2
}
