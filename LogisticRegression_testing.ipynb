{
 "cells": [
  {
   "cell_type": "code",
   "execution_count": 2,
   "metadata": {},
   "outputs": [
    {
     "name": "stderr",
     "output_type": "stream",
     "text": [
      "  0%|          | 0/1000 [00:00<?, ?it/s]c:\\Users\\norti\\OneDrive - Université Paris-Dauphine\\Documents\\GitHub\\kaggle_challenge\\kaggle_challenge\\LogisticRegression_NC.py:18: RuntimeWarning: overflow encountered in exp\n",
      "  return 1 / (1 + np.exp(-u))\n",
      " 35%|███▌      | 353/1000 [00:00<00:00, 1277.09it/s]c:\\Users\\norti\\OneDrive - Université Paris-Dauphine\\Documents\\GitHub\\kaggle_challenge\\kaggle_challenge\\LogisticRegression_NC.py:61: RuntimeWarning: invalid value encountered in double_scalars\n",
      "  Delta = l - l_new\n",
      " 51%|█████     | 510/1000 [00:00<00:00, 1298.59it/s]\n",
      "c:\\Users\\norti\\OneDrive - Université Paris-Dauphine\\Documents\\GitHub\\kaggle_challenge\\kaggle_challenge\\LogisticRegression_NC.py:70: RuntimeWarning: overflow encountered in exp\n",
      "  return 1 / (1 + np.exp(-u))\n"
     ]
    },
    {
     "data": {
      "text/plain": [
       "array([[1., 1., 1., 1., 1., 1., 1., 1., 1., 1., 1., 1., 1., 1., 1., 1.,\n",
       "        1., 1., 1., 1.],\n",
       "       [0., 0., 0., 0., 0., 0., 0., 0., 0., 0., 0., 0., 0., 0., 0., 0.,\n",
       "        0., 0., 0., 0.]])"
      ]
     },
     "execution_count": 2,
     "metadata": {},
     "output_type": "execute_result"
    }
   ],
   "source": [
    "import numpy as np\n",
    "from LogisticRegression_NC import RBF, LogisticRegression\n",
    "\n",
    "n = 100\n",
    "m = 20\n",
    "d = 50\n",
    "\n",
    "X_train = np.random.rand(n,d)\n",
    "y_train = np.random.randint(2, size=n)\n",
    "\n",
    "K_train = RBF(X_train, X_train)                            \n",
    "lr = LogisticRegression(alpha=np.ones(n), lamb=0.1, delta=10, niter=1000)\n",
    "lr.fit(K_train, y_train)\n",
    "\n",
    "X_test = np.random.rand(m,d)\n",
    "y_test = np.random.randint(2, size=m)\n",
    "K_test = RBF(X_train, X_test)\n",
    "\n",
    "lr.predictproba(K_test.T)"
   ]
  }
 ],
 "metadata": {
  "kernelspec": {
   "display_name": "research",
   "language": "python",
   "name": "python3"
  },
  "language_info": {
   "codemirror_mode": {
    "name": "ipython",
    "version": 3
   },
   "file_extension": ".py",
   "mimetype": "text/x-python",
   "name": "python",
   "nbconvert_exporter": "python",
   "pygments_lexer": "ipython3",
   "version": "3.9.13"
  },
  "orig_nbformat": 4
 },
 "nbformat": 4,
 "nbformat_minor": 2
}
