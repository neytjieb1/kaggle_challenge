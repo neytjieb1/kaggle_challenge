{
 "cells": [
  {
   "cell_type": "code",
   "execution_count": 12,
   "metadata": {},
   "outputs": [
    {
     "name": "stderr",
     "output_type": "stream",
     "text": [
      "  0%|          | 1/1000 [00:00<?, ?it/s]\n"
     ]
    },
    {
     "data": {
      "text/plain": [
       "array([[9.99999809e-01, 9.99999835e-01, 9.99999996e-01, 9.99999991e-01,\n",
       "        9.99999944e-01, 9.99998687e-01, 9.99999999e-01, 9.99999946e-01,\n",
       "        9.99999989e-01, 9.99999927e-01, 9.99999951e-01, 9.99999984e-01,\n",
       "        9.99999781e-01, 9.99999923e-01, 9.99999974e-01, 9.99999996e-01,\n",
       "        9.99999963e-01, 9.99999998e-01, 9.99999994e-01, 9.99999853e-01],\n",
       "       [1.91418096e-07, 1.65146411e-07, 4.08958659e-09, 9.03534572e-09,\n",
       "        5.61100692e-08, 1.31253019e-06, 1.07785168e-09, 5.43476296e-08,\n",
       "        1.06744762e-08, 7.26467236e-08, 4.86513339e-08, 1.56386974e-08,\n",
       "        2.18634793e-07, 7.71967676e-08, 2.62182874e-08, 4.01136072e-09,\n",
       "        3.67043157e-08, 1.84347730e-09, 5.74100135e-09, 1.47342470e-07]])"
      ]
     },
     "execution_count": 12,
     "metadata": {},
     "output_type": "execute_result"
    }
   ],
   "source": [
    "import numpy as np\n",
    "from LogisticRegression_NC import RBF, LogisticRegression\n",
    "\n",
    "n = 100\n",
    "m = 20\n",
    "d = 50\n",
    "\n",
    "X_train = np.random.rand(n,d)\n",
    "y_train = np.random.randint(2, size=n)\n",
    "\n",
    "K_train = RBF(X_train, X_train)                            \n",
    "lr = LogisticRegression(alpha=np.ones(n), lamb=0.01, delta=10, niter=1000)\n",
    "lr.fit(K_train, y_train)\n",
    "\n",
    "X_test = np.random.rand(m,d)\n",
    "y_test = np.random.randint(2, size=m)\n",
    "K_test = RBF(X_train, X_test)\n",
    "\n",
    "lr.predictproba(K_test.T)"
   ]
  }
 ],
 "metadata": {
  "kernelspec": {
   "display_name": "research",
   "language": "python",
   "name": "python3"
  },
  "language_info": {
   "codemirror_mode": {
    "name": "ipython",
    "version": 3
   },
   "file_extension": ".py",
   "mimetype": "text/x-python",
   "name": "python",
   "nbconvert_exporter": "python",
   "pygments_lexer": "ipython3",
   "version": "3.9.13"
  },
  "orig_nbformat": 4
 },
 "nbformat": 4,
 "nbformat_minor": 2
}
